{
 "cells": [
  {
   "cell_type": "code",
   "execution_count": 76,
   "metadata": {},
   "outputs": [],
   "source": [
    "import pandas as py"
   ]
  },
  {
   "cell_type": "code",
   "execution_count": 77,
   "metadata": {},
   "outputs": [
    {
     "data": {
      "text/plain": [
       "'1.1.5'"
      ]
     },
     "execution_count": 77,
     "metadata": {},
     "output_type": "execute_result"
    }
   ],
   "source": [
    "py.__version__"
   ]
  },
  {
   "cell_type": "code",
   "execution_count": 78,
   "metadata": {},
   "outputs": [],
   "source": [
    "datafram = py.read_csv('historical_projections.csv')"
   ]
  },
  {
   "cell_type": "code",
   "execution_count": 79,
   "metadata": {},
   "outputs": [
    {
     "name": "stdout",
     "output_type": "stream",
     "text": [
      "               Player Position                  ID  Draft Year  Projected SPM  \\\n",
      "0  Karl-Anthony Towns        C  karl-anthony-towns        2015       1.030606   \n",
      "1     Justise Winslow       SF     justise-winslow        2015       0.875329   \n",
      "2     Stanley Johnson       SF     stanley-johnson        2015       0.679493   \n",
      "3       Jahlil Okafor        C       jahlil-okafor        2015       0.521661   \n",
      "4    D`Angelo Russell       PG    d-angelo-russell        2015       0.511967   \n",
      "\n",
      "   Superstar   Starter  Role Player      Bust  \n",
      "0   0.134767  0.427183     0.163083  0.274967  \n",
      "1   0.083529  0.510905     0.176767  0.228800  \n",
      "2   0.067800  0.423733     0.278500  0.229967  \n",
      "3   0.058717  0.409900     0.235533  0.295850  \n",
      "4   0.152033  0.342283     0.096583  0.409100  \n"
     ]
    }
   ],
   "source": [
    "print(datafram.head())"
   ]
  },
  {
   "cell_type": "code",
   "execution_count": null,
   "metadata": {},
   "outputs": [
    {
     "data": {
      "text/plain": [
       "Player           Karl-Anthony Towns\n",
       "Position                          C\n",
       "ID               karl-anthony-towns\n",
       "Draft Year                     2015\n",
       "Projected SPM               1.03061\n",
       "Superstar                  0.134767\n",
       "Starter                    0.427183\n",
       "Role Player                0.163083\n",
       "Bust                       0.274967\n",
       "Name: 0, dtype: object"
      ]
     },
     "execution_count": 80,
     "metadata": {},
     "output_type": "execute_result"
    }
   ],
   "source": [
    "datafram.iloc[0]"
   ]
  },
  {
   "cell_type": "code",
   "execution_count": null,
   "metadata": {},
   "outputs": [
    {
     "data": {
      "text/html": [
       "<div>\n",
       "<style scoped>\n",
       "    .dataframe tbody tr th:only-of-type {\n",
       "        vertical-align: middle;\n",
       "    }\n",
       "\n",
       "    .dataframe tbody tr th {\n",
       "        vertical-align: top;\n",
       "    }\n",
       "\n",
       "    .dataframe thead th {\n",
       "        text-align: right;\n",
       "    }\n",
       "</style>\n",
       "<table border=\"1\" class=\"dataframe\">\n",
       "  <thead>\n",
       "    <tr style=\"text-align: right;\">\n",
       "      <th></th>\n",
       "      <th>Player</th>\n",
       "      <th>Position</th>\n",
       "      <th>ID</th>\n",
       "      <th>Draft Year</th>\n",
       "      <th>Projected SPM</th>\n",
       "      <th>Superstar</th>\n",
       "      <th>Starter</th>\n",
       "      <th>Role Player</th>\n",
       "      <th>Bust</th>\n",
       "    </tr>\n",
       "  </thead>\n",
       "  <tbody>\n",
       "    <tr>\n",
       "      <th>0</th>\n",
       "      <td>Karl-Anthony Towns</td>\n",
       "      <td>C</td>\n",
       "      <td>karl-anthony-towns</td>\n",
       "      <td>2015</td>\n",
       "      <td>1.030606</td>\n",
       "      <td>0.134767</td>\n",
       "      <td>0.427183</td>\n",
       "      <td>0.163083</td>\n",
       "      <td>0.274967</td>\n",
       "    </tr>\n",
       "    <tr>\n",
       "      <th>1</th>\n",
       "      <td>Justise Winslow</td>\n",
       "      <td>SF</td>\n",
       "      <td>justise-winslow</td>\n",
       "      <td>2015</td>\n",
       "      <td>0.875329</td>\n",
       "      <td>0.083529</td>\n",
       "      <td>0.510905</td>\n",
       "      <td>0.176767</td>\n",
       "      <td>0.228800</td>\n",
       "    </tr>\n",
       "    <tr>\n",
       "      <th>2</th>\n",
       "      <td>Stanley Johnson</td>\n",
       "      <td>SF</td>\n",
       "      <td>stanley-johnson</td>\n",
       "      <td>2015</td>\n",
       "      <td>0.679493</td>\n",
       "      <td>0.067800</td>\n",
       "      <td>0.423733</td>\n",
       "      <td>0.278500</td>\n",
       "      <td>0.229967</td>\n",
       "    </tr>\n",
       "    <tr>\n",
       "      <th>3</th>\n",
       "      <td>Jahlil Okafor</td>\n",
       "      <td>C</td>\n",
       "      <td>jahlil-okafor</td>\n",
       "      <td>2015</td>\n",
       "      <td>0.521661</td>\n",
       "      <td>0.058717</td>\n",
       "      <td>0.409900</td>\n",
       "      <td>0.235533</td>\n",
       "      <td>0.295850</td>\n",
       "    </tr>\n",
       "    <tr>\n",
       "      <th>4</th>\n",
       "      <td>D`Angelo Russell</td>\n",
       "      <td>PG</td>\n",
       "      <td>d-angelo-russell</td>\n",
       "      <td>2015</td>\n",
       "      <td>0.511967</td>\n",
       "      <td>0.152033</td>\n",
       "      <td>0.342283</td>\n",
       "      <td>0.096583</td>\n",
       "      <td>0.409100</td>\n",
       "    </tr>\n",
       "    <tr>\n",
       "      <th>5</th>\n",
       "      <td>Dakari Johnson</td>\n",
       "      <td>C</td>\n",
       "      <td>dakari-johnson</td>\n",
       "      <td>2015</td>\n",
       "      <td>0.491787</td>\n",
       "      <td>0.021341</td>\n",
       "      <td>0.367544</td>\n",
       "      <td>0.417572</td>\n",
       "      <td>0.193544</td>\n",
       "    </tr>\n",
       "    <tr>\n",
       "      <th>6</th>\n",
       "      <td>Devin Booker</td>\n",
       "      <td>SG</td>\n",
       "      <td>3-devin-booker</td>\n",
       "      <td>2015</td>\n",
       "      <td>0.472577</td>\n",
       "      <td>0.073367</td>\n",
       "      <td>0.324467</td>\n",
       "      <td>0.390167</td>\n",
       "      <td>0.212000</td>\n",
       "    </tr>\n",
       "    <tr>\n",
       "      <th>7</th>\n",
       "      <td>Willie Cauley-Stein</td>\n",
       "      <td>C</td>\n",
       "      <td>willie-cauley-stein</td>\n",
       "      <td>2015</td>\n",
       "      <td>0.351171</td>\n",
       "      <td>0.047114</td>\n",
       "      <td>0.405990</td>\n",
       "      <td>0.243186</td>\n",
       "      <td>0.303710</td>\n",
       "    </tr>\n",
       "    <tr>\n",
       "      <th>8</th>\n",
       "      <td>Rondae Hollis-Jefferson</td>\n",
       "      <td>SF</td>\n",
       "      <td>rondae-hollis-jefferson</td>\n",
       "      <td>2015</td>\n",
       "      <td>0.311909</td>\n",
       "      <td>0.014590</td>\n",
       "      <td>0.368533</td>\n",
       "      <td>0.392481</td>\n",
       "      <td>0.224396</td>\n",
       "    </tr>\n",
       "    <tr>\n",
       "      <th>9</th>\n",
       "      <td>Trey Lyles</td>\n",
       "      <td>PF</td>\n",
       "      <td>trey-lyles</td>\n",
       "      <td>2015</td>\n",
       "      <td>0.267509</td>\n",
       "      <td>0.022386</td>\n",
       "      <td>0.351329</td>\n",
       "      <td>0.403052</td>\n",
       "      <td>0.223233</td>\n",
       "    </tr>\n",
       "    <tr>\n",
       "      <th>10</th>\n",
       "      <td>Sam Dekker</td>\n",
       "      <td>SF</td>\n",
       "      <td>sam-dekker</td>\n",
       "      <td>2015</td>\n",
       "      <td>0.254165</td>\n",
       "      <td>0.008692</td>\n",
       "      <td>0.385004</td>\n",
       "      <td>0.329054</td>\n",
       "      <td>0.277250</td>\n",
       "    </tr>\n",
       "    <tr>\n",
       "      <th>11</th>\n",
       "      <td>Kelly Oubre Jr.</td>\n",
       "      <td>SF</td>\n",
       "      <td>kelly-oubre-jr</td>\n",
       "      <td>2015</td>\n",
       "      <td>0.247310</td>\n",
       "      <td>0.019833</td>\n",
       "      <td>0.378983</td>\n",
       "      <td>0.337967</td>\n",
       "      <td>0.263217</td>\n",
       "    </tr>\n",
       "  </tbody>\n",
       "</table>\n",
       "</div>"
      ],
      "text/plain": [
       "                     Player Position                       ID  Draft Year  \\\n",
       "0        Karl-Anthony Towns        C       karl-anthony-towns        2015   \n",
       "1           Justise Winslow       SF          justise-winslow        2015   \n",
       "2           Stanley Johnson       SF          stanley-johnson        2015   \n",
       "3             Jahlil Okafor        C            jahlil-okafor        2015   \n",
       "4          D`Angelo Russell       PG         d-angelo-russell        2015   \n",
       "5            Dakari Johnson        C           dakari-johnson        2015   \n",
       "6              Devin Booker       SG           3-devin-booker        2015   \n",
       "7       Willie Cauley-Stein        C      willie-cauley-stein        2015   \n",
       "8   Rondae Hollis-Jefferson       SF  rondae-hollis-jefferson        2015   \n",
       "9                Trey Lyles       PF               trey-lyles        2015   \n",
       "10               Sam Dekker       SF               sam-dekker        2015   \n",
       "11          Kelly Oubre Jr.       SF           kelly-oubre-jr        2015   \n",
       "\n",
       "    Projected SPM  Superstar   Starter  Role Player      Bust  \n",
       "0        1.030606   0.134767  0.427183     0.163083  0.274967  \n",
       "1        0.875329   0.083529  0.510905     0.176767  0.228800  \n",
       "2        0.679493   0.067800  0.423733     0.278500  0.229967  \n",
       "3        0.521661   0.058717  0.409900     0.235533  0.295850  \n",
       "4        0.511967   0.152033  0.342283     0.096583  0.409100  \n",
       "5        0.491787   0.021341  0.367544     0.417572  0.193544  \n",
       "6        0.472577   0.073367  0.324467     0.390167  0.212000  \n",
       "7        0.351171   0.047114  0.405990     0.243186  0.303710  \n",
       "8        0.311909   0.014590  0.368533     0.392481  0.224396  \n",
       "9        0.267509   0.022386  0.351329     0.403052  0.223233  \n",
       "10       0.254165   0.008692  0.385004     0.329054  0.277250  \n",
       "11       0.247310   0.019833  0.378983     0.337967  0.263217  "
      ]
     },
     "execution_count": 81,
     "metadata": {},
     "output_type": "execute_result"
    }
   ],
   "source": [
    "datafram.iloc[0:12]"
   ]
  },
  {
   "cell_type": "code",
   "execution_count": null,
   "metadata": {},
   "outputs": [
    {
     "data": {
      "text/html": [
       "<div>\n",
       "<style scoped>\n",
       "    .dataframe tbody tr th:only-of-type {\n",
       "        vertical-align: middle;\n",
       "    }\n",
       "\n",
       "    .dataframe tbody tr th {\n",
       "        vertical-align: top;\n",
       "    }\n",
       "\n",
       "    .dataframe thead th {\n",
       "        text-align: right;\n",
       "    }\n",
       "</style>\n",
       "<table border=\"1\" class=\"dataframe\">\n",
       "  <thead>\n",
       "    <tr style=\"text-align: right;\">\n",
       "      <th></th>\n",
       "      <th>Player</th>\n",
       "      <th>Position</th>\n",
       "      <th>ID</th>\n",
       "      <th>Draft Year</th>\n",
       "      <th>Projected SPM</th>\n",
       "      <th>Superstar</th>\n",
       "      <th>Starter</th>\n",
       "      <th>Role Player</th>\n",
       "      <th>Bust</th>\n",
       "    </tr>\n",
       "  </thead>\n",
       "  <tbody>\n",
       "    <tr>\n",
       "      <th>0</th>\n",
       "      <td>Karl-Anthony Towns</td>\n",
       "      <td>C</td>\n",
       "      <td>karl-anthony-towns</td>\n",
       "      <td>2015</td>\n",
       "      <td>1.030606</td>\n",
       "      <td>0.134767</td>\n",
       "      <td>0.427183</td>\n",
       "      <td>0.163083</td>\n",
       "      <td>0.274967</td>\n",
       "    </tr>\n",
       "    <tr>\n",
       "      <th>1</th>\n",
       "      <td>Justise Winslow</td>\n",
       "      <td>SF</td>\n",
       "      <td>justise-winslow</td>\n",
       "      <td>2015</td>\n",
       "      <td>0.875329</td>\n",
       "      <td>0.083529</td>\n",
       "      <td>0.510905</td>\n",
       "      <td>0.176767</td>\n",
       "      <td>0.228800</td>\n",
       "    </tr>\n",
       "    <tr>\n",
       "      <th>2</th>\n",
       "      <td>Stanley Johnson</td>\n",
       "      <td>SF</td>\n",
       "      <td>stanley-johnson</td>\n",
       "      <td>2015</td>\n",
       "      <td>0.679493</td>\n",
       "      <td>0.067800</td>\n",
       "      <td>0.423733</td>\n",
       "      <td>0.278500</td>\n",
       "      <td>0.229967</td>\n",
       "    </tr>\n",
       "    <tr>\n",
       "      <th>3</th>\n",
       "      <td>Jahlil Okafor</td>\n",
       "      <td>C</td>\n",
       "      <td>jahlil-okafor</td>\n",
       "      <td>2015</td>\n",
       "      <td>0.521661</td>\n",
       "      <td>0.058717</td>\n",
       "      <td>0.409900</td>\n",
       "      <td>0.235533</td>\n",
       "      <td>0.295850</td>\n",
       "    </tr>\n",
       "    <tr>\n",
       "      <th>4</th>\n",
       "      <td>D`Angelo Russell</td>\n",
       "      <td>PG</td>\n",
       "      <td>d-angelo-russell</td>\n",
       "      <td>2015</td>\n",
       "      <td>0.511967</td>\n",
       "      <td>0.152033</td>\n",
       "      <td>0.342283</td>\n",
       "      <td>0.096583</td>\n",
       "      <td>0.409100</td>\n",
       "    </tr>\n",
       "    <tr>\n",
       "      <th>...</th>\n",
       "      <td>...</td>\n",
       "      <td>...</td>\n",
       "      <td>...</td>\n",
       "      <td>...</td>\n",
       "      <td>...</td>\n",
       "      <td>...</td>\n",
       "      <td>...</td>\n",
       "      <td>...</td>\n",
       "      <td>...</td>\n",
       "    </tr>\n",
       "    <tr>\n",
       "      <th>1085</th>\n",
       "      <td>Terrell Lyday</td>\n",
       "      <td>SG</td>\n",
       "      <td>terrell-lyday</td>\n",
       "      <td>2001</td>\n",
       "      <td>-1.486319</td>\n",
       "      <td>0.001152</td>\n",
       "      <td>0.018303</td>\n",
       "      <td>0.261035</td>\n",
       "      <td>0.719510</td>\n",
       "    </tr>\n",
       "    <tr>\n",
       "      <th>1086</th>\n",
       "      <td>Brandon Wolfram</td>\n",
       "      <td>SF</td>\n",
       "      <td>brandon-wolfram</td>\n",
       "      <td>2001</td>\n",
       "      <td>-1.493460</td>\n",
       "      <td>0.000271</td>\n",
       "      <td>0.011532</td>\n",
       "      <td>0.271560</td>\n",
       "      <td>0.716636</td>\n",
       "    </tr>\n",
       "    <tr>\n",
       "      <th>1087</th>\n",
       "      <td>Ruben Boumtje Boumtje</td>\n",
       "      <td>C</td>\n",
       "      <td>ruben-boumtje-boumtje</td>\n",
       "      <td>2001</td>\n",
       "      <td>-1.494069</td>\n",
       "      <td>0.000000</td>\n",
       "      <td>0.020653</td>\n",
       "      <td>0.236919</td>\n",
       "      <td>0.742427</td>\n",
       "    </tr>\n",
       "    <tr>\n",
       "      <th>1088</th>\n",
       "      <td>Greg Stevenson</td>\n",
       "      <td>SG</td>\n",
       "      <td>greg-stevenson</td>\n",
       "      <td>2001</td>\n",
       "      <td>-1.529188</td>\n",
       "      <td>0.000000</td>\n",
       "      <td>0.019693</td>\n",
       "      <td>0.238861</td>\n",
       "      <td>0.741446</td>\n",
       "    </tr>\n",
       "    <tr>\n",
       "      <th>1089</th>\n",
       "      <td>Calvin Bowman</td>\n",
       "      <td>C</td>\n",
       "      <td>calvin-bowman</td>\n",
       "      <td>2001</td>\n",
       "      <td>-1.684669</td>\n",
       "      <td>0.000000</td>\n",
       "      <td>0.005068</td>\n",
       "      <td>0.168629</td>\n",
       "      <td>0.826303</td>\n",
       "    </tr>\n",
       "  </tbody>\n",
       "</table>\n",
       "<p>1090 rows × 9 columns</p>\n",
       "</div>"
      ],
      "text/plain": [
       "                     Player Position                     ID  Draft Year  \\\n",
       "0        Karl-Anthony Towns        C     karl-anthony-towns        2015   \n",
       "1           Justise Winslow       SF        justise-winslow        2015   \n",
       "2           Stanley Johnson       SF        stanley-johnson        2015   \n",
       "3             Jahlil Okafor        C          jahlil-okafor        2015   \n",
       "4          D`Angelo Russell       PG       d-angelo-russell        2015   \n",
       "...                     ...      ...                    ...         ...   \n",
       "1085          Terrell Lyday       SG          terrell-lyday        2001   \n",
       "1086        Brandon Wolfram       SF        brandon-wolfram        2001   \n",
       "1087  Ruben Boumtje Boumtje        C  ruben-boumtje-boumtje        2001   \n",
       "1088         Greg Stevenson       SG         greg-stevenson        2001   \n",
       "1089          Calvin Bowman        C          calvin-bowman        2001   \n",
       "\n",
       "      Projected SPM  Superstar   Starter  Role Player      Bust  \n",
       "0          1.030606   0.134767  0.427183     0.163083  0.274967  \n",
       "1          0.875329   0.083529  0.510905     0.176767  0.228800  \n",
       "2          0.679493   0.067800  0.423733     0.278500  0.229967  \n",
       "3          0.521661   0.058717  0.409900     0.235533  0.295850  \n",
       "4          0.511967   0.152033  0.342283     0.096583  0.409100  \n",
       "...             ...        ...       ...          ...       ...  \n",
       "1085      -1.486319   0.001152  0.018303     0.261035  0.719510  \n",
       "1086      -1.493460   0.000271  0.011532     0.271560  0.716636  \n",
       "1087      -1.494069   0.000000  0.020653     0.236919  0.742427  \n",
       "1088      -1.529188   0.000000  0.019693     0.238861  0.741446  \n",
       "1089      -1.684669   0.000000  0.005068     0.168629  0.826303  \n",
       "\n",
       "[1090 rows x 9 columns]"
      ]
     },
     "execution_count": 82,
     "metadata": {},
     "output_type": "execute_result"
    }
   ],
   "source": [
    "datafram.iloc[:, 0:12]"
   ]
  },
  {
   "cell_type": "code",
   "execution_count": null,
   "metadata": {},
   "outputs": [],
   "source": []
  },
  {
   "cell_type": "code",
   "execution_count": null,
   "metadata": {},
   "outputs": [],
   "source": [
    "import matplotlib.pyplot as plt\n",
    "import numpy as np"
   ]
  },
  {
   "cell_type": "code",
   "execution_count": null,
   "metadata": {},
   "outputs": [],
   "source": [
    "fig, ax = plt.subplots()  # Create a figure containing a single axes.\n",
    "ax.plot([1, 2, 3, 4], [1, 4, 2, 3])  # Plot some data on the axes."
   ]
  },
  {
   "cell_type": "code",
   "execution_count": null,
   "metadata": {},
   "outputs": [],
   "source": []
  },
  {
   "cell_type": "code",
   "execution_count": null,
   "metadata": {},
   "outputs": [],
   "source": [
    "historicalprojections = py.read_csv(\"historical_projections.csv\", index_col=0, parse_dates=True)"
   ]
  },
  {
   "cell_type": "code",
   "execution_count": null,
   "metadata": {},
   "outputs": [],
   "source": [
    "historicalprojections.plot()"
   ]
  },
  {
   "cell_type": "code",
   "execution_count": null,
   "metadata": {},
   "outputs": [],
   "source": [
    "historicalprojections.head()"
   ]
  },
  {
   "cell_type": "code",
   "execution_count": null,
   "metadata": {},
   "outputs": [],
   "source": []
  },
  {
   "cell_type": "code",
   "execution_count": null,
   "metadata": {},
   "outputs": [],
   "source": []
  },
  {
   "cell_type": "code",
   "execution_count": null,
   "metadata": {},
   "outputs": [],
   "source": [
    "historicalprojections = py.read_csv(\"historical_projections.csv\", index_col=0, parse_dates=True)"
   ]
  },
  {
   "cell_type": "code",
   "execution_count": null,
   "metadata": {},
   "outputs": [],
   "source": []
  },
  {
   "cell_type": "code",
   "execution_count": null,
   "metadata": {},
   "outputs": [],
   "source": []
  },
  {
   "cell_type": "code",
   "execution_count": null,
   "metadata": {},
   "outputs": [],
   "source": [
    "historicalprojections = py.read_csv(\"historical_projections.csv\", index_col=0, parse_dates=True)"
   ]
  },
  {
   "cell_type": "code",
   "execution_count": null,
   "metadata": {},
   "outputs": [],
   "source": [
    "historicalprojections.plot.scatter(x=\"Position\", y=\"Draft Year\", alpha=1)"
   ]
  },
  {
   "cell_type": "code",
   "execution_count": null,
   "metadata": {},
   "outputs": [],
   "source": [
    "historicalprojections.plot.scatter(x=\"Position\", y=\"Draft Year\", alpha=0.5)"
   ]
  },
  {
   "cell_type": "code",
   "execution_count": null,
   "metadata": {},
   "outputs": [],
   "source": [
    "historicalprojections.plot.scatter(x=\"Projected SPM\", y=\"Draft Year\", alpha=0.5)"
   ]
  },
  {
   "cell_type": "code",
   "execution_count": null,
   "metadata": {},
   "outputs": [],
   "source": [
    "historicalprojections.plot.scatter(x=\"Projected SPM\", y=\"Position\", alpha=0.5)"
   ]
  },
  {
   "cell_type": "code",
   "execution_count": null,
   "metadata": {},
   "outputs": [],
   "source": [
    "historicalprojections[\"Projected SPM\"].plot()"
   ]
  },
  {
   "cell_type": "code",
   "execution_count": null,
   "metadata": {},
   "outputs": [],
   "source": []
  }
 ],
 "metadata": {
  "kernelspec": {
   "display_name": "Python 3",
   "language": "python",
   "name": "python3"
  },
  "language_info": {
   "codemirror_mode": {
    "name": "ipython",
    "version": 3
   },
   "file_extension": ".py",
   "mimetype": "text/x-python",
   "name": "python",
   "nbconvert_exporter": "python",
   "pygments_lexer": "ipython3",
   "version": "3.6.9"
  }
 },
 "nbformat": 4,
 "nbformat_minor": 2
}
